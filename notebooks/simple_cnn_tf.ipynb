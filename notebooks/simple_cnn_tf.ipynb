{
 "cells": [
  {
   "cell_type": "code",
   "execution_count": 1,
   "id": "b20f9147",
   "metadata": {},
   "outputs": [],
   "source": [
    "\"\"\"Imports\"\"\"\n",
    "import json\n",
    "\n",
    "import src.executor.execute\n",
    "import src.nn_operations.basic"
   ]
  },
  {
   "cell_type": "code",
   "execution_count": 2,
   "id": "01d24631",
   "metadata": {},
   "outputs": [],
   "source": [
    "\"\"\"Paths and constants\"\"\"\n",
    "\n",
    "PATHS = {\n",
    "    \"DATASET\"        : \"../artefacts/dataset\",\n",
    "    \"TEST_CSV\"       : \"../artefacts/dataset/test.csv\",\n",
    "    \"TRAIN_CSV\"      : \"../artefacts/dataset/train.csv\",\n",
    "    \"VAL_CSV\"        : \"../artefacts/dataset/validation.csv\",\n",
    "    \"LABEL_MAP_PATH\" : \"../artefacts\\dataset\\label_map.json\"\n",
    "}\n",
    "\n",
    "with open(PATHS[\"LABEL_MAP_PATH\"]) as json_file:\n",
    "    PATHS[\"LABEL_MAP\"] = json.load(json_file)"
   ]
  },
  {
   "cell_type": "code",
   "execution_count": 3,
   "id": "cc80e435",
   "metadata": {},
   "outputs": [],
   "source": [
    "def main():\n",
    "    # 0. Set paths\n",
    "    src.executor.execute.stage_set_paths(PATHS)\n",
    "    \n",
    "    # 1. Prepare test, train and validation data. Display the results\n",
    "    data_dict = src.executor.execute.stage_preparation()\n",
    "\n",
    "    # 2. Load test, train and validation data into memory\n",
    "    data = src.executor.execute.stage_load_data(data_dict)\n",
    "    \n",
    "    # 3. Create simple cnn model and compile it\n",
    "    cnn_model = src.executor.execute.stage_nn_init()\n",
    "    \n",
    "    # 4. Train the model\n",
    "    training_history = src.executor.execute.stage_nn_train(cnn_model, data)\n",
    "\n",
    "    # 5. Test the model\n",
    "    src.executor.execute.stage_nn_test(cnn_model, data)\n",
    "    \n",
    "    # 6. Save the model\n",
    "    src.executor.execute.stage_nn_save(cnn_model)"
   ]
  },
  {
   "cell_type": "code",
   "execution_count": null,
   "id": "5c36ea87",
   "metadata": {
    "scrolled": false
   },
   "outputs": [
    {
     "data": {
      "text/markdown": [
       "**<div style='text-align: center;'><span style='color:white; font-size:24px; text-align:center'>1. Prepare test, train and validation data</span></div>**"
      ],
      "text/plain": [
       "<IPython.core.display.Markdown object>"
      ]
     },
     "metadata": {},
     "output_type": "display_data"
    },
    {
     "name": "stdout",
     "output_type": "stream",
     "text": [
      "Execution time: 0.02s\n"
     ]
    },
    {
     "data": {
      "text/markdown": [
       "**<span style='color:white'>**---------------------------------------------------------------------------------------------------------------------------------------------------------------------------------**</span>**"
      ],
      "text/plain": [
       "<IPython.core.display.Markdown object>"
      ]
     },
     "metadata": {},
     "output_type": "display_data"
    },
    {
     "data": {
      "text/markdown": [
       "**<div style='text-align: center;'><span style='color:white; font-size:24px; text-align:center'>2. Load test, train and validation data into memory</span></div>**"
      ],
      "text/plain": [
       "<IPython.core.display.Markdown object>"
      ]
     },
     "metadata": {},
     "output_type": "display_data"
    },
    {
     "name": "stdout",
     "output_type": "stream",
     "text": [
      "Execution time: 8.23s\n"
     ]
    },
    {
     "data": {
      "text/markdown": [
       "**<span style='color:white'>**---------------------------------------------------------------------------------------------------------------------------------------------------------------------------------**</span>**"
      ],
      "text/plain": [
       "<IPython.core.display.Markdown object>"
      ]
     },
     "metadata": {},
     "output_type": "display_data"
    },
    {
     "data": {
      "text/markdown": [
       "**<div style='text-align: center;'><span style='color:white; font-size:24px; text-align:center'>3. Create and compile CNN model</span></div>**"
      ],
      "text/plain": [
       "<IPython.core.display.Markdown object>"
      ]
     },
     "metadata": {},
     "output_type": "display_data"
    },
    {
     "data": {
      "text/markdown": [
       "**<span style='color:white; font-size:18px'>Model summary</span>**"
      ],
      "text/plain": [
       "<IPython.core.display.Markdown object>"
      ]
     },
     "metadata": {},
     "output_type": "display_data"
    },
    {
     "name": "stdout",
     "output_type": "stream",
     "text": [
      "Model: \"sequential\"\n",
      "_________________________________________________________________\n",
      "Layer (type)                 Output Shape              Param #   \n",
      "=================================================================\n",
      "conv2d (Conv2D)              (None, 64, 64, 16)        448       \n",
      "_________________________________________________________________\n",
      "max_pooling2d (MaxPooling2D) (None, 32, 32, 16)        0         \n",
      "_________________________________________________________________\n",
      "conv2d_1 (Conv2D)            (None, 32, 32, 32)        4640      \n",
      "_________________________________________________________________\n",
      "max_pooling2d_1 (MaxPooling2 (None, 16, 16, 32)        0         \n",
      "_________________________________________________________________\n",
      "conv2d_2 (Conv2D)            (None, 16, 16, 64)        18496     \n",
      "_________________________________________________________________\n",
      "flatten (Flatten)            (None, 16384)             0         \n",
      "_________________________________________________________________\n",
      "dense (Dense)                (None, 64)                1048640   \n",
      "_________________________________________________________________\n",
      "dense_1 (Dense)              (None, 10)                650       \n",
      "=================================================================\n",
      "Total params: 1,072,874\n",
      "Trainable params: 1,072,874\n",
      "Non-trainable params: 0\n",
      "_________________________________________________________________\n",
      "Execution time: 0.06s\n"
     ]
    },
    {
     "data": {
      "text/markdown": [
       "**<span style='color:white'>**---------------------------------------------------------------------------------------------------------------------------------------------------------------------------------**</span>**"
      ],
      "text/plain": [
       "<IPython.core.display.Markdown object>"
      ]
     },
     "metadata": {},
     "output_type": "display_data"
    },
    {
     "data": {
      "text/markdown": [
       "**<div style='text-align: center;'><span style='color:white; font-size:24px; text-align:center'>4. Train CNN model</span></div>**"
      ],
      "text/plain": [
       "<IPython.core.display.Markdown object>"
      ]
     },
     "metadata": {},
     "output_type": "display_data"
    },
    {
     "name": "stdout",
     "output_type": "stream",
     "text": [
      "Epoch 1/10\n",
      "591/591 [==============================] - 23s 39ms/step - loss: 1.5272 - accuracy: 0.4104 - val_loss: 1.0661 - val_accuracy: 0.6015\n",
      "Epoch 2/10\n",
      "591/591 [==============================] - 22s 37ms/step - loss: 0.8816 - accuracy: 0.6854 - val_loss: 0.6947 - val_accuracy: 0.7506\n",
      "Epoch 3/10\n",
      "591/591 [==============================] - 22s 37ms/step - loss: 0.6729 - accuracy: 0.7569 - val_loss: 0.6761 - val_accuracy: 0.7694\n",
      "Epoch 4/10\n",
      "297/591 [==============>...............] - ETA: 10s - loss: 0.5275 - accuracy: 0.8198- ETA: 14s - loss: 0.5228 - "
     ]
    }
   ],
   "source": [
    "if __name__ == \"__main__\" :\n",
    "        main()"
   ]
  }
 ],
 "metadata": {
  "kernelspec": {
   "display_name": "Python 3 (ipykernel)",
   "language": "python",
   "name": "python3"
  },
  "language_info": {
   "codemirror_mode": {
    "name": "ipython",
    "version": 3
   },
   "file_extension": ".py",
   "mimetype": "text/x-python",
   "name": "python",
   "nbconvert_exporter": "python",
   "pygments_lexer": "ipython3",
   "version": "3.7.11"
  }
 },
 "nbformat": 4,
 "nbformat_minor": 5
}
