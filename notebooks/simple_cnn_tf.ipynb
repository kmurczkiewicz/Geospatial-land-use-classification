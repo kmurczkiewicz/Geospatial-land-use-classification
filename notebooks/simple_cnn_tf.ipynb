{
 "cells": [
  {
   "cell_type": "code",
   "execution_count": 1,
   "id": "84dfb343",
   "metadata": {},
   "outputs": [],
   "source": [
    "import bin.execution.executor"
   ]
  },
  {
   "cell_type": "code",
   "execution_count": 2,
   "id": "07b5866a",
   "metadata": {},
   "outputs": [],
   "source": [
    "def main():\n",
    "    executor = bin.execution.executor.Executor()\n",
    "    executor.execute_full_flow()"
   ]
  },
  {
   "cell_type": "code",
   "execution_count": 3,
   "id": "ec52353a",
   "metadata": {
    "scrolled": false
   },
   "outputs": [
    {
     "data": {
      "text/markdown": [
       "**<div style='text-align: center;'><span style='color:white; font-size:24px; text-align:center'>1. Prepare test, train and validation data</span></div>**"
      ],
      "text/plain": [
       "<IPython.core.display.Markdown object>"
      ]
     },
     "metadata": {},
     "output_type": "display_data"
    },
    {
     "name": "stdout",
     "output_type": "stream",
     "text": [
      "Execution time: 0.02s\n"
     ]
    },
    {
     "data": {
      "text/markdown": [
       "**<span style='color:white'>**---------------------------------------------------------------------------------------------------------------------------------------------------------------------------------**</span>**"
      ],
      "text/plain": [
       "<IPython.core.display.Markdown object>"
      ]
     },
     "metadata": {},
     "output_type": "display_data"
    },
    {
     "data": {
      "text/markdown": [
       "**<div style='text-align: center;'><span style='color:white; font-size:24px; text-align:center'>2. Load test, train and validation data into memory</span></div>**"
      ],
      "text/plain": [
       "<IPython.core.display.Markdown object>"
      ]
     },
     "metadata": {},
     "output_type": "display_data"
    },
    {
     "name": "stdout",
     "output_type": "stream",
     "text": [
      "Loading test, train and validation data into memory...\n",
      "Execution time: 12.39s\n"
     ]
    },
    {
     "data": {
      "text/markdown": [
       "**<span style='color:white'>**---------------------------------------------------------------------------------------------------------------------------------------------------------------------------------**</span>**"
      ],
      "text/plain": [
       "<IPython.core.display.Markdown object>"
      ]
     },
     "metadata": {},
     "output_type": "display_data"
    },
    {
     "data": {
      "text/markdown": [
       "**<div style='text-align: center;'><span style='color:white; font-size:24px; text-align:center'>3. Create and compile CNN model</span></div>**"
      ],
      "text/plain": [
       "<IPython.core.display.Markdown object>"
      ]
     },
     "metadata": {},
     "output_type": "display_data"
    },
    {
     "name": "stdout",
     "output_type": "stream",
     "text": [
      "Execution time: 0.06s\n"
     ]
    },
    {
     "data": {
      "text/markdown": [
       "**<span style='color:white'>**---------------------------------------------------------------------------------------------------------------------------------------------------------------------------------**</span>**"
      ],
      "text/plain": [
       "<IPython.core.display.Markdown object>"
      ]
     },
     "metadata": {},
     "output_type": "display_data"
    },
    {
     "data": {
      "text/markdown": [
       "**<div style='text-align: center;'><span style='color:white; font-size:24px; text-align:center'>4. Train CNN model</span></div>**"
      ],
      "text/plain": [
       "<IPython.core.display.Markdown object>"
      ]
     },
     "metadata": {},
     "output_type": "display_data"
    },
    {
     "name": "stdout",
     "output_type": "stream",
     "text": [
      "Epoch 1/10\n",
      "591/591 [==============================] - 21s 35ms/step - loss: 1.2698 - accuracy: 0.5242 - val_loss: 0.8347 - val_accuracy: 0.7011\n",
      "Epoch 2/10\n",
      "591/591 [==============================] - 20s 34ms/step - loss: 0.7866 - accuracy: 0.7123 - val_loss: 0.6385 - val_accuracy: 0.7693\n",
      "Epoch 3/10\n",
      "591/591 [==============================] - 20s 34ms/step - loss: 0.6226 - accuracy: 0.7726 - val_loss: 0.5832 - val_accuracy: 0.7928\n",
      "Epoch 4/10\n",
      "591/591 [==============================] - 20s 34ms/step - loss: 0.5477 - accuracy: 0.8032 - val_loss: 0.5381 - val_accuracy: 0.8098\n",
      "Epoch 5/10\n",
      "591/591 [==============================] - 21s 35ms/step - loss: 0.4731 - accuracy: 0.8325 - val_loss: 0.5403 - val_accuracy: 0.8093\n",
      "Epoch 6/10\n",
      "591/591 [==============================] - 20s 34ms/step - loss: 0.4022 - accuracy: 0.8601 - val_loss: 0.4887 - val_accuracy: 0.8330\n",
      "Epoch 7/10\n",
      "591/591 [==============================] - 20s 34ms/step - loss: 0.3528 - accuracy: 0.8746 - val_loss: 0.4951 - val_accuracy: 0.8313\n",
      "Epoch 8/10\n",
      "591/591 [==============================] - 21s 35ms/step - loss: 0.2977 - accuracy: 0.8949 - val_loss: 0.5006 - val_accuracy: 0.8376\n",
      "Epoch 9/10\n",
      "591/591 [==============================] - 20s 34ms/step - loss: 0.2427 - accuracy: 0.9170 - val_loss: 0.5558 - val_accuracy: 0.8276\n",
      "Epoch 10/10\n",
      "591/591 [==============================] - 20s 35ms/step - loss: 0.2142 - accuracy: 0.9256 - val_loss: 0.6402 - val_accuracy: 0.7998\n",
      "Execution time: 203.79s\n"
     ]
    },
    {
     "data": {
      "text/markdown": [
       "**<div style='text-align: center;'><span style='color:white; font-size:24px; text-align:center'>5. Test the CNN model</span></div>**"
      ],
      "text/plain": [
       "<IPython.core.display.Markdown object>"
      ]
     },
     "metadata": {},
     "output_type": "display_data"
    },
    {
     "name": "stdout",
     "output_type": "stream",
     "text": [
      "85/85 - 1s - loss: 0.6108 - accuracy: 0.8063 - 659ms/epoch - 8ms/step\n",
      "Test accuracy: 0.8062962889671326\n"
     ]
    },
    {
     "data": {
      "text/markdown": [
       "**<div style='text-align: center;'><span style='color:white; font-size:24px; text-align:center'>6. Save the model</span></div>**"
      ],
      "text/plain": [
       "<IPython.core.display.Markdown object>"
      ]
     },
     "metadata": {},
     "output_type": "display_data"
    },
    {
     "name": "stdout",
     "output_type": "stream",
     "text": [
      "INFO:tensorflow:Assets written to: E:\\Projects\\Projekt_Inzynierski\\Geospatial-land-use-classification\\artefacts/models_pb\\small_cnn_1915030122\\assets\n"
     ]
    },
    {
     "data": {
      "image/png": "[encoded data removed]",
      "text/plain": [
       "<Figure size 432x288 with 1 Axes>"
      ]
     },
     "metadata": {
      "needs_background": "light"
     },
     "output_type": "display_data"
    }
   ],
   "source": [
    "if __name__ == \"__main__\" :\n",
    "        main()"
   ]
  }
 ],
 "metadata": {
  "kernelspec": {
   "display_name": "Python 3 (ipykernel)",
   "language": "python",
   "name": "python3"
  },
  "language_info": {
   "codemirror_mode": {
    "name": "ipython",
    "version": 3
   },
   "file_extension": ".py",
   "mimetype": "text/x-python",
   "name": "python",
   "nbconvert_exporter": "python",
   "pygments_lexer": "ipython3",
   "version": "3.7.11"
  }
 },
 "nbformat": 4,
 "nbformat_minor": 5
}
