{
 "cells": [
  {
   "cell_type": "code",
   "execution_count": 1,
   "id": "84dfb343",
   "metadata": {},
   "outputs": [],
   "source": [
    "import bin.executor.executor"
   ]
  },
  {
   "cell_type": "code",
   "execution_count": 2,
   "id": "07b5866a",
   "metadata": {},
   "outputs": [],
   "source": [
    "def main():\n",
    "    executor = bin.executor.executor.Executor()\n",
    "    executor.execute_full_flow()"
   ]
  },
  {
   "cell_type": "code",
   "execution_count": 3,
   "id": "ec52353a",
   "metadata": {
    "scrolled": false
   },
   "outputs": [
    {
     "data": {
      "text/markdown": [
       "**<div style='text-align: center;'><span style='color:white; font-size:24px; text-align:center'>1. Prepare test, train and validation data</span></div>**"
      ],
      "text/plain": [
       "<IPython.core.display.Markdown object>"
      ]
     },
     "metadata": {},
     "output_type": "display_data"
    },
    {
     "name": "stdout",
     "output_type": "stream",
     "text": [
      "Execution time: 0.02s\n"
     ]
    },
    {
     "data": {
      "text/markdown": [
       "**<span style='color:white'>**---------------------------------------------------------------------------------------------------------------------------------------------------------------------------------**</span>**"
      ],
      "text/plain": [
       "<IPython.core.display.Markdown object>"
      ]
     },
     "metadata": {},
     "output_type": "display_data"
    },
    {
     "data": {
      "text/markdown": [
       "**<div style='text-align: center;'><span style='color:white; font-size:24px; text-align:center'>2. Load test, train and validation data into memory</span></div>**"
      ],
      "text/plain": [
       "<IPython.core.display.Markdown object>"
      ]
     },
     "metadata": {},
     "output_type": "display_data"
    },
    {
     "name": "stdout",
     "output_type": "stream",
     "text": [
      "Execution time: 439.31s\n"
     ]
    },
    {
     "data": {
      "text/markdown": [
       "**<span style='color:white'>**---------------------------------------------------------------------------------------------------------------------------------------------------------------------------------**</span>**"
      ],
      "text/plain": [
       "<IPython.core.display.Markdown object>"
      ]
     },
     "metadata": {},
     "output_type": "display_data"
    },
    {
     "data": {
      "text/markdown": [
       "**<div style='text-align: center;'><span style='color:white; font-size:24px; text-align:center'>3. Create and compile CNN model</span></div>**"
      ],
      "text/plain": [
       "<IPython.core.display.Markdown object>"
      ]
     },
     "metadata": {},
     "output_type": "display_data"
    },
    {
     "name": "stdout",
     "output_type": "stream",
     "text": [
      "Execution time: 0.09s\n"
     ]
    },
    {
     "data": {
      "text/markdown": [
       "**<span style='color:white'>**---------------------------------------------------------------------------------------------------------------------------------------------------------------------------------**</span>**"
      ],
      "text/plain": [
       "<IPython.core.display.Markdown object>"
      ]
     },
     "metadata": {},
     "output_type": "display_data"
    },
    {
     "data": {
      "text/markdown": [
       "**<div style='text-align: center;'><span style='color:white; font-size:24px; text-align:center'>4. Train CNN model</span></div>**"
      ],
      "text/plain": [
       "<IPython.core.display.Markdown object>"
      ]
     },
     "metadata": {},
     "output_type": "display_data"
    },
    {
     "name": "stdout",
     "output_type": "stream",
     "text": [
      "Epoch 1/10\n",
      "591/591 [==============================] - 21s 35ms/step - loss: 1.1058 - accuracy: 0.5858 - val_loss: 0.7415 - val_accuracy: 0.7441\n",
      "Epoch 2/10\n",
      "591/591 [==============================] - 21s 35ms/step - loss: 0.6955 - accuracy: 0.7485 - val_loss: 0.5596 - val_accuracy: 0.8048\n",
      "Epoch 3/10\n",
      "591/591 [==============================] - 20s 34ms/step - loss: 0.5760 - accuracy: 0.7916 - val_loss: 0.6364 - val_accuracy: 0.7809\n",
      "Epoch 4/10\n",
      "591/591 [==============================] - 20s 34ms/step - loss: 0.4940 - accuracy: 0.8264 - val_loss: 0.5130 - val_accuracy: 0.8120\n",
      "Epoch 5/10\n",
      "591/591 [==============================] - 20s 34ms/step - loss: 0.4524 - accuracy: 0.8399 - val_loss: 0.6712 - val_accuracy: 0.7752\n",
      "Epoch 6/10\n",
      "591/591 [==============================] - 20s 34ms/step - loss: 0.3830 - accuracy: 0.8646 - val_loss: 0.6195 - val_accuracy: 0.7837\n",
      "Epoch 7/10\n",
      "591/591 [==============================] - 20s 34ms/step - loss: 0.3347 - accuracy: 0.8835 - val_loss: 0.6055 - val_accuracy: 0.7904\n",
      "Epoch 8/10\n",
      "591/591 [==============================] - 21s 35ms/step - loss: 0.2743 - accuracy: 0.9038 - val_loss: 0.5449 - val_accuracy: 0.8219\n",
      "Epoch 9/10\n",
      "591/591 [==============================] - 20s 35ms/step - loss: 0.2207 - accuracy: 0.9261 - val_loss: 0.5056 - val_accuracy: 0.8419\n",
      "Epoch 10/10\n",
      "591/591 [==============================] - 20s 35ms/step - loss: 0.1990 - accuracy: 0.9319 - val_loss: 0.5015 - val_accuracy: 0.8463\n",
      "Execution time: 204.19s\n"
     ]
    },
    {
     "data": {
      "text/markdown": [
       "**<div style='text-align: center;'><span style='color:white; font-size:24px; text-align:center'>5. Test the CNN model</span></div>**"
      ],
      "text/plain": [
       "<IPython.core.display.Markdown object>"
      ]
     },
     "metadata": {},
     "output_type": "display_data"
    },
    {
     "name": "stdout",
     "output_type": "stream",
     "text": [
      "85/85 - 1s - loss: 0.5127 - accuracy: 0.8415 - 642ms/epoch - 8ms/step\n",
      "Test accuracy: 0.8414815068244934\n"
     ]
    },
    {
     "data": {
      "text/markdown": [
       "**<div style='text-align: center;'><span style='color:white; font-size:24px; text-align:center'>6. Save the model</span></div>**"
      ],
      "text/plain": [
       "<IPython.core.display.Markdown object>"
      ]
     },
     "metadata": {},
     "output_type": "display_data"
    },
    {
     "name": "stdout",
     "output_type": "stream",
     "text": [
      "INFO:tensorflow:Assets written to: models_pb\\small_cnn_1748030122\\assets\n"
     ]
    },
    {
     "data": {
      "image/png": "[encoded data removed]",
      "text/plain": [
       "<Figure size 432x288 with 1 Axes>"
      ]
     },
     "metadata": {
      "needs_background": "light"
     },
     "output_type": "display_data"
    }
   ],
   "source": [
    "if __name__ == \"__main__\" :\n",
    "        main()"
   ]
  }
 ],
 "metadata": {
  "kernelspec": {
   "display_name": "Python 3 (ipykernel)",
   "language": "python",
   "name": "python3"
  },
  "language_info": {
   "codemirror_mode": {
    "name": "ipython",
    "version": 3
   },
   "file_extension": ".py",
   "mimetype": "text/x-python",
   "name": "python",
   "nbconvert_exporter": "python",
   "pygments_lexer": "ipython3",
   "version": "3.7.11"
  }
 },
 "nbformat": 4,
 "nbformat_minor": 5
}
