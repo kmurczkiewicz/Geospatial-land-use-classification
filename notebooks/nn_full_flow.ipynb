{
 "cells": [
  {
   "cell_type": "code",
   "execution_count": null,
   "id": "84dfb343",
   "metadata": {},
   "outputs": [],
   "source": [
    "%matplotlib inline\n",
    "import tensorflow as tf\n",
    "\n",
    "import src.execution.main_executor"
   ]
  },
  {
   "cell_type": "code",
   "execution_count": null,
   "id": "07b5866a",
   "metadata": {},
   "outputs": [],
   "source": [
    "def main():\n",
    "    executor = src.execution.main_executor.MainExecutor(display=True)\n",
    "    executor.execute_full_flow(\n",
    "        topology     = \"D\",\n",
    "        epochs       = 5,\n",
    "        optimizer    = tf.keras.optimizers.Adam(learning_rate=3e-4),\n",
    "        loss_function= tf.keras.losses.SparseCategoricalCrossentropy(),\n",
    "        batch_size   = 128,\n",
    "        metrics      = ['accuracy'],\n",
    "        layer_activation_function='relu',\n",
    "        save_model   = False\n",
    "    )"
   ]
  },
  {
   "cell_type": "code",
   "execution_count": null,
   "id": "ec52353a",
   "metadata": {
    "scrolled": false
   },
   "outputs": [],
   "source": [
    "if __name__ == \"__main__\" :\n",
    "        main()"
   ]
  }
 ],
 "metadata": {
  "kernelspec": {
   "display_name": "Python 3 (ipykernel)",
   "language": "python",
   "name": "python3"
  },
  "language_info": {
   "codemirror_mode": {
    "name": "ipython",
    "version": 3
   },
   "file_extension": ".py",
   "mimetype": "text/x-python",
   "name": "python",
   "nbconvert_exporter": "python",
   "pygments_lexer": "ipython3",
   "version": "3.7.9"
  }
 },
 "nbformat": 4,
 "nbformat_minor": 5
}
