{
 "cells": [
  {
   "cell_type": "code",
   "execution_count": 2,
   "id": "84dfb343",
   "metadata": {},
   "outputs": [],
   "source": [
    "import bin.execution.executor"
   ]
  },
  {
   "cell_type": "code",
   "execution_count": 3,
   "id": "07b5866a",
   "metadata": {},
   "outputs": [],
   "source": [
    "def main():\n",
    "    executor = bin.execution.executor.Executor()\n",
    "    executor.execute_full_flow(\n",
    "        topology=\"A\",\n",
    "        epochs=10\n",
    "    )"
   ]
  },
  {
   "cell_type": "code",
   "execution_count": 4,
   "id": "ec52353a",
   "metadata": {
    "scrolled": false
   },
   "outputs": [
    {
     "data": {
      "text/markdown": [
       "**<div style='text-align: center;'><span style='color:white; font-size:24px; text-align:center'>1. Prepare test, train and validation data</span></div>**"
      ],
      "text/plain": [
       "<IPython.core.display.Markdown object>"
      ]
     },
     "metadata": {},
     "output_type": "display_data"
    },
    {
     "name": "stdout",
     "output_type": "stream",
     "text": [
      "Execution time: 0.02s\n"
     ]
    },
    {
     "data": {
      "text/markdown": [
       "**<span style='color:white'>**---------------------------------------------------------------------------------------------------------------------------------------------------------------------------------**</span>**"
      ],
      "text/plain": [
       "<IPython.core.display.Markdown object>"
      ]
     },
     "metadata": {},
     "output_type": "display_data"
    },
    {
     "data": {
      "text/markdown": [
       "**<div style='text-align: center;'><span style='color:white; font-size:24px; text-align:center'>2. Load test, train and validation data into memory</span></div>**"
      ],
      "text/plain": [
       "<IPython.core.display.Markdown object>"
      ]
     },
     "metadata": {},
     "output_type": "display_data"
    },
    {
     "name": "stdout",
     "output_type": "stream",
     "text": [
      "Loading test, train and validation data into memory...\n",
      "Execution time: 8.48s\n"
     ]
    },
    {
     "data": {
      "text/markdown": [
       "**<span style='color:white'>**---------------------------------------------------------------------------------------------------------------------------------------------------------------------------------**</span>**"
      ],
      "text/plain": [
       "<IPython.core.display.Markdown object>"
      ]
     },
     "metadata": {},
     "output_type": "display_data"
    },
    {
     "data": {
      "text/markdown": [
       "**<div style='text-align: center;'><span style='color:white; font-size:24px; text-align:center'>3. Create and compile CNN model</span></div>**"
      ],
      "text/plain": [
       "<IPython.core.display.Markdown object>"
      ]
     },
     "metadata": {},
     "output_type": "display_data"
    },
    {
     "name": "stdout",
     "output_type": "stream",
     "text": [
      "Execution time: 0.06s\n"
     ]
    },
    {
     "data": {
      "text/markdown": [
       "**<span style='color:white'>**---------------------------------------------------------------------------------------------------------------------------------------------------------------------------------**</span>**"
      ],
      "text/plain": [
       "<IPython.core.display.Markdown object>"
      ]
     },
     "metadata": {},
     "output_type": "display_data"
    },
    {
     "data": {
      "text/markdown": [
       "**<div style='text-align: center;'><span style='color:white; font-size:24px; text-align:center'>4. Train CNN model</span></div>**"
      ],
      "text/plain": [
       "<IPython.core.display.Markdown object>"
      ]
     },
     "metadata": {},
     "output_type": "display_data"
    },
    {
     "name": "stdout",
     "output_type": "stream",
     "text": [
      "Epoch 1/10\n",
      "591/591 [==============================] - 22s 36ms/step - loss: 1.2670 - accuracy: 0.5227 - val_loss: 0.8977 - val_accuracy: 0.6741\n",
      "Epoch 2/10\n",
      "591/591 [==============================] - 22s 38ms/step - loss: 0.7967 - accuracy: 0.7142 - val_loss: 0.7457 - val_accuracy: 0.7052\n",
      "Epoch 3/10\n",
      "591/591 [==============================] - 22s 38ms/step - loss: 0.6610 - accuracy: 0.7638 - val_loss: 0.6519 - val_accuracy: 0.7663\n",
      "Epoch 4/10\n",
      "591/591 [==============================] - 22s 37ms/step - loss: 0.5722 - accuracy: 0.7960 - val_loss: 0.5631 - val_accuracy: 0.8019\n",
      "Epoch 5/10\n",
      "591/591 [==============================] - 22s 37ms/step - loss: 0.5078 - accuracy: 0.8182 - val_loss: 0.5126 - val_accuracy: 0.8187\n",
      "Epoch 6/10\n",
      "591/591 [==============================] - 23s 40ms/step - loss: 0.4403 - accuracy: 0.8434 - val_loss: 0.4923 - val_accuracy: 0.8263\n",
      "Epoch 7/10\n",
      "591/591 [==============================] - 22s 38ms/step - loss: 0.3937 - accuracy: 0.8585 - val_loss: 0.5528 - val_accuracy: 0.8093\n",
      "Epoch 8/10\n",
      "591/591 [==============================] - 21s 36ms/step - loss: 0.3547 - accuracy: 0.8767 - val_loss: 0.4790 - val_accuracy: 0.8280\n",
      "Epoch 9/10\n",
      "591/591 [==============================] - 21s 36ms/step - loss: 0.3123 - accuracy: 0.8909 - val_loss: 0.4691 - val_accuracy: 0.8406\n",
      "Epoch 10/10\n",
      "591/591 [==============================] - 21s 36ms/step - loss: 0.2546 - accuracy: 0.9122 - val_loss: 0.5269 - val_accuracy: 0.8198\n",
      "Execution time: 220.04s\n"
     ]
    },
    {
     "data": {
      "text/markdown": [
       "**<div style='text-align: center;'><span style='color:white; font-size:24px; text-align:center'>5. Test the CNN model</span></div>**"
      ],
      "text/plain": [
       "<IPython.core.display.Markdown object>"
      ]
     },
     "metadata": {},
     "output_type": "display_data"
    },
    {
     "name": "stdout",
     "output_type": "stream",
     "text": [
      "85/85 - 1s - loss: 0.5089 - accuracy: 0.8344 - 710ms/epoch - 8ms/step\n",
      "Test accuracy: 0.8344444632530212\n"
     ]
    },
    {
     "data": {
      "text/markdown": [
       "**<div style='text-align: center;'><span style='color:white; font-size:24px; text-align:center'>6. Save the model</span></div>**"
      ],
      "text/plain": [
       "<IPython.core.display.Markdown object>"
      ]
     },
     "metadata": {},
     "output_type": "display_data"
    },
    {
     "name": "stdout",
     "output_type": "stream",
     "text": [
      "INFO:tensorflow:Assets written to: E:\\Projects\\Projekt_Inzynierski\\Geospatial-land-use-classification\\artefacts/models_pb\\network_A_1511070122\\assets\n"
     ]
    },
    {
     "data": {
      "image/png": "[encoded data removed]",
      "text/plain": [
       "<Figure size 432x288 with 1 Axes>"
      ]
     },
     "metadata": {
      "needs_background": "light"
     },
     "output_type": "display_data"
    }
   ],
   "source": [
    "if __name__ == \"__main__\" :\n",
    "        main()"
   ]
  }
 ],
 "metadata": {
  "kernelspec": {
   "display_name": "Python 3 (ipykernel)",
   "language": "python",
   "name": "python3"
  },
  "language_info": {
   "codemirror_mode": {
    "name": "ipython",
    "version": 3
   },
   "file_extension": ".py",
   "mimetype": "text/x-python",
   "name": "python",
   "nbconvert_exporter": "python",
   "pygments_lexer": "ipython3",
   "version": "3.7.11"
  }
 },
 "nbformat": 4,
 "nbformat_minor": 5
}
