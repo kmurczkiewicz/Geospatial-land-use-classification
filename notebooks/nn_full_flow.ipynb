{
 "cells": [
  {
   "cell_type": "code",
   "execution_count": null,
   "id": "84dfb343",
   "metadata": {},
   "outputs": [],
   "source": [
    "%matplotlib inline\n",
    "import tensorflow as tf\n",
    "import src.execution.main_executor\n",
    "from tensorflow.python.client import device_lib"
   ]
  },
  {
   "cell_type": "code",
   "execution_count": null,
   "id": "07b5866a",
   "metadata": {},
   "outputs": [],
   "source": [
    "def main():\n",
    "        # Check if GPU is available\n",
    "        print(\"Num GPUs Available: \", len(tf.config.list_physical_devices('GPU')))\n",
    "        device_lib.list_local_devices()\n",
    "        \n",
    "        OPTIMIZERS = [\n",
    "             {\"optimizer\" : tf.keras.optimizers.Adagrad},\n",
    "             {\"optimizer\" : tf.keras.optimizers.Adam, \"learning_rate\" : 0.00046748},\n",
    "             {\"optimizer\" : tf.keras.optimizers.Adamax},\n",
    "             {\"optimizer\" : tf.keras.optimizers.RMSprop},\n",
    "             {\"optimizer\" : tf.keras.optimizers.SGD, \"learning_rate\" : 0.0075}\n",
    "        ]\n",
    "\n",
    "        ACTIVATIONS = ['relu', 'tanh', 'selu', 'elu']\n",
    "        \n",
    "        executor = src.execution.main_executor.MainExecutor(display=True)\n",
    "        executor.execute_full_flow(\n",
    "            architecture = \"D\",\n",
    "            epochs       = 100,\n",
    "            optimizers   = OPTIMIZERS,\n",
    "            loss_function= tf.keras.losses.SparseCategoricalCrossentropy(),\n",
    "            batch_size   = 128,\n",
    "            metrics      = ['accuracy'],\n",
    "            activations  = ACTIVATIONS,\n",
    "            save_model   = False\n",
    "        )"
   ]
  },
  {
   "cell_type": "code",
   "execution_count": null,
   "id": "ec52353a",
   "metadata": {
    "scrolled": false
   },
   "outputs": [],
   "source": [
    "if __name__ == \"__main__\" :\n",
    "        main()"
   ]
  }
 ],
 "metadata": {
  "kernelspec": {
   "display_name": "Python 3 (ipykernel)",
   "language": "python",
   "name": "python3"
  },
  "language_info": {
   "codemirror_mode": {
    "name": "ipython",
    "version": 3
   },
   "file_extension": ".py",
   "mimetype": "text/x-python",
   "name": "python",
   "nbconvert_exporter": "python",
   "pygments_lexer": "ipython3",
   "version": "3.7.9"
  }
 },
 "nbformat": 4,
 "nbformat_minor": 5
}
