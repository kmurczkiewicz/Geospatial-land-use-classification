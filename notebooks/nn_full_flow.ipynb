{
 "cells": [
  {
   "cell_type": "code",
   "execution_count": 2,
   "id": "84dfb343",
   "metadata": {},
   "outputs": [],
   "source": [
    "import bin.execution.executor"
   ]
  },
  {
   "cell_type": "code",
   "execution_count": 3,
   "id": "07b5866a",
   "metadata": {},
   "outputs": [],
   "source": [
    "def main():\n",
    "    executor = bin.execution.executor.Executor()\n",
    "    executor.execute_full_flow(topology=\"A\")"
   ]
  },
  {
   "cell_type": "code",
   "execution_count": 4,
   "id": "ec52353a",
   "metadata": {
    "scrolled": false
   },
   "outputs": [
    {
     "data": {
      "text/markdown": [
       "**<div style='text-align: center;'><span style='color:white; font-size:24px; text-align:center'>1. Prepare test, train and validation data</span></div>**"
      ],
      "text/plain": [
       "<IPython.core.display.Markdown object>"
      ]
     },
     "metadata": {},
     "output_type": "display_data"
    },
    {
     "name": "stdout",
     "output_type": "stream",
     "text": [
      "Execution time: 0.02s\n"
     ]
    },
    {
     "data": {
      "text/markdown": [
       "**<span style='color:white'>**---------------------------------------------------------------------------------------------------------------------------------------------------------------------------------**</span>**"
      ],
      "text/plain": [
       "<IPython.core.display.Markdown object>"
      ]
     },
     "metadata": {},
     "output_type": "display_data"
    },
    {
     "data": {
      "text/markdown": [
       "**<div style='text-align: center;'><span style='color:white; font-size:24px; text-align:center'>2. Load test, train and validation data into memory</span></div>**"
      ],
      "text/plain": [
       "<IPython.core.display.Markdown object>"
      ]
     },
     "metadata": {},
     "output_type": "display_data"
    },
    {
     "name": "stdout",
     "output_type": "stream",
     "text": [
      "Loading test, train and validation data into memory...\n",
      "Execution time: 61.96s\n"
     ]
    },
    {
     "data": {
      "text/markdown": [
       "**<span style='color:white'>**---------------------------------------------------------------------------------------------------------------------------------------------------------------------------------**</span>**"
      ],
      "text/plain": [
       "<IPython.core.display.Markdown object>"
      ]
     },
     "metadata": {},
     "output_type": "display_data"
    },
    {
     "data": {
      "text/markdown": [
       "**<div style='text-align: center;'><span style='color:white; font-size:24px; text-align:center'>3. Create and compile CNN model</span></div>**"
      ],
      "text/plain": [
       "<IPython.core.display.Markdown object>"
      ]
     },
     "metadata": {},
     "output_type": "display_data"
    },
    {
     "name": "stdout",
     "output_type": "stream",
     "text": [
      "Execution time: 0.06s\n"
     ]
    },
    {
     "data": {
      "text/markdown": [
       "**<span style='color:white'>**---------------------------------------------------------------------------------------------------------------------------------------------------------------------------------**</span>**"
      ],
      "text/plain": [
       "<IPython.core.display.Markdown object>"
      ]
     },
     "metadata": {},
     "output_type": "display_data"
    },
    {
     "data": {
      "text/markdown": [
       "**<div style='text-align: center;'><span style='color:white; font-size:24px; text-align:center'>4. Train CNN model</span></div>**"
      ],
      "text/plain": [
       "<IPython.core.display.Markdown object>"
      ]
     },
     "metadata": {},
     "output_type": "display_data"
    },
    {
     "name": "stdout",
     "output_type": "stream",
     "text": [
      "Epoch 1/10\n",
      "591/591 [==============================] - 22s 37ms/step - loss: 1.3157 - accuracy: 0.5025 - val_loss: 0.9738 - val_accuracy: 0.6476\n",
      "Epoch 2/10\n",
      "591/591 [==============================] - 21s 36ms/step - loss: 0.8375 - accuracy: 0.7030 - val_loss: 0.7978 - val_accuracy: 0.7004\n",
      "Epoch 3/10\n",
      "591/591 [==============================] - 21s 36ms/step - loss: 0.6853 - accuracy: 0.7538 - val_loss: 0.6465 - val_accuracy: 0.7728\n",
      "Epoch 4/10\n",
      "591/591 [==============================] - 21s 36ms/step - loss: 0.6091 - accuracy: 0.7829 - val_loss: 0.5526 - val_accuracy: 0.8037\n",
      "Epoch 5/10\n",
      "591/591 [==============================] - 21s 36ms/step - loss: 0.5427 - accuracy: 0.8044 - val_loss: 0.6474 - val_accuracy: 0.7696\n",
      "Epoch 6/10\n",
      "591/591 [==============================] - 21s 36ms/step - loss: 0.4726 - accuracy: 0.8303 - val_loss: 0.4922 - val_accuracy: 0.8276\n",
      "Epoch 7/10\n",
      "591/591 [==============================] - 21s 36ms/step - loss: 0.4212 - accuracy: 0.8494 - val_loss: 0.5334 - val_accuracy: 0.8080\n",
      "Epoch 8/10\n",
      "591/591 [==============================] - 21s 36ms/step - loss: 0.3589 - accuracy: 0.8711 - val_loss: 0.4904 - val_accuracy: 0.8246\n",
      "Epoch 9/10\n",
      "591/591 [==============================] - 22s 36ms/step - loss: 0.2985 - accuracy: 0.8962 - val_loss: 0.6466 - val_accuracy: 0.7857\n",
      "Epoch 10/10\n",
      "591/591 [==============================] - 21s 36ms/step - loss: 0.2694 - accuracy: 0.9065 - val_loss: 0.5388 - val_accuracy: 0.8259\n",
      "Execution time: 213.97s\n"
     ]
    },
    {
     "data": {
      "text/markdown": [
       "**<div style='text-align: center;'><span style='color:white; font-size:24px; text-align:center'>5. Test the CNN model</span></div>**"
      ],
      "text/plain": [
       "<IPython.core.display.Markdown object>"
      ]
     },
     "metadata": {},
     "output_type": "display_data"
    },
    {
     "name": "stdout",
     "output_type": "stream",
     "text": [
      "85/85 - 1s - loss: 0.5250 - accuracy: 0.8333 - 718ms/epoch - 8ms/step\n",
      "Test accuracy: 0.8333333134651184\n"
     ]
    },
    {
     "data": {
      "text/markdown": [
       "**<div style='text-align: center;'><span style='color:white; font-size:24px; text-align:center'>6. Save the model</span></div>**"
      ],
      "text/plain": [
       "<IPython.core.display.Markdown object>"
      ]
     },
     "metadata": {},
     "output_type": "display_data"
    },
    {
     "name": "stdout",
     "output_type": "stream",
     "text": [
      "INFO:tensorflow:Assets written to: E:\\Projects\\Projekt_Inzynierski\\Geospatial-land-use-classification\\artefacts/models_pb\\small_cnn_A_1128060122\\assets\n"
     ]
    },
    {
     "data": {
      "image/png": "[encoded data removed]",
      "text/plain": [
       "<Figure size 432x288 with 1 Axes>"
      ]
     },
     "metadata": {
      "needs_background": "light"
     },
     "output_type": "display_data"
    }
   ],
   "source": [
    "if __name__ == \"__main__\" :\n",
    "        main()"
   ]
  }
 ],
 "metadata": {
  "kernelspec": {
   "display_name": "Python 3 (ipykernel)",
   "language": "python",
   "name": "python3"
  },
  "language_info": {
   "codemirror_mode": {
    "name": "ipython",
    "version": 3
   },
   "file_extension": ".py",
   "mimetype": "text/x-python",
   "name": "python",
   "nbconvert_exporter": "python",
   "pygments_lexer": "ipython3",
   "version": "3.7.11"
  }
 },
 "nbformat": 4,
 "nbformat_minor": 5
}
