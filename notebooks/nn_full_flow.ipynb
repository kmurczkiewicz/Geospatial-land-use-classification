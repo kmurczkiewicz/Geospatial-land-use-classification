{
 "cells": [
  {
   "cell_type": "code",
   "execution_count": 1,
   "id": "84dfb343",
   "metadata": {},
   "outputs": [],
   "source": [
    "import bin.execution.executor"
   ]
  },
  {
   "cell_type": "code",
   "execution_count": 2,
   "id": "07b5866a",
   "metadata": {},
   "outputs": [],
   "source": [
    "def main():\n",
    "    executor = bin.execution.executor.Executor()\n",
    "    executor.execute_full_flow(\n",
    "        topology=\"A\",\n",
    "        epochs=10\n",
    "    )"
   ]
  },
  {
   "cell_type": "code",
   "execution_count": 3,
   "id": "ec52353a",
   "metadata": {
    "scrolled": false
   },
   "outputs": [
    {
     "data": {
      "text/markdown": [
       "**<div style='text-align: center;'><span style='color:white; font-size:24px; text-align:center'>1. Prepare test, train and validation data</span></div>**"
      ],
      "text/plain": [
       "<IPython.core.display.Markdown object>"
      ]
     },
     "metadata": {},
     "output_type": "display_data"
    },
    {
     "name": "stdout",
     "output_type": "stream",
     "text": [
      "Execution time: 0.03s\n"
     ]
    },
    {
     "data": {
      "text/markdown": [
       "**<span style='color:white'>**---------------------------------------------------------------------------------------------------------------------------------------------------------------------------------**</span>**"
      ],
      "text/plain": [
       "<IPython.core.display.Markdown object>"
      ]
     },
     "metadata": {},
     "output_type": "display_data"
    },
    {
     "data": {
      "text/markdown": [
       "**<div style='text-align: center;'><span style='color:white; font-size:24px; text-align:center'>2. Load test, train and validation data into memory</span></div>**"
      ],
      "text/plain": [
       "<IPython.core.display.Markdown object>"
      ]
     },
     "metadata": {},
     "output_type": "display_data"
    },
    {
     "name": "stdout",
     "output_type": "stream",
     "text": [
      "Loading test, train and validation data into memory...\n",
      "Execution time: 8.40s\n"
     ]
    },
    {
     "data": {
      "text/markdown": [
       "**<span style='color:white'>**---------------------------------------------------------------------------------------------------------------------------------------------------------------------------------**</span>**"
      ],
      "text/plain": [
       "<IPython.core.display.Markdown object>"
      ]
     },
     "metadata": {},
     "output_type": "display_data"
    },
    {
     "data": {
      "text/markdown": [
       "**<div style='text-align: center;'><span style='color:white; font-size:24px; text-align:center'>3. Create and compile CNN model</span></div>**"
      ],
      "text/plain": [
       "<IPython.core.display.Markdown object>"
      ]
     },
     "metadata": {},
     "output_type": "display_data"
    },
    {
     "name": "stdout",
     "output_type": "stream",
     "text": [
      "Execution time: 0.06s\n"
     ]
    },
    {
     "data": {
      "text/markdown": [
       "**<span style='color:white'>**---------------------------------------------------------------------------------------------------------------------------------------------------------------------------------**</span>**"
      ],
      "text/plain": [
       "<IPython.core.display.Markdown object>"
      ]
     },
     "metadata": {},
     "output_type": "display_data"
    },
    {
     "data": {
      "text/markdown": [
       "**<div style='text-align: center;'><span style='color:white; font-size:24px; text-align:center'>4. Train CNN model</span></div>**"
      ],
      "text/plain": [
       "<IPython.core.display.Markdown object>"
      ]
     },
     "metadata": {},
     "output_type": "display_data"
    },
    {
     "name": "stdout",
     "output_type": "stream",
     "text": [
      "Epoch 1/10\n",
      "591/591 [==============================] - 22s 36ms/step - loss: 1.4593 - accuracy: 0.4428 - val_loss: 1.0999 - val_accuracy: 0.6326\n",
      "Epoch 2/10\n",
      "591/591 [==============================] - 21s 36ms/step - loss: 1.0334 - accuracy: 0.6263 - val_loss: 0.8513 - val_accuracy: 0.6989\n",
      "Epoch 3/10\n",
      "591/591 [==============================] - 22s 37ms/step - loss: 0.8583 - accuracy: 0.6913 - val_loss: 0.6405 - val_accuracy: 0.7774\n",
      "Epoch 4/10\n",
      "591/591 [==============================] - 22s 37ms/step - loss: 0.7486 - accuracy: 0.7357 - val_loss: 0.6486 - val_accuracy: 0.7756\n",
      "Epoch 5/10\n",
      "591/591 [==============================] - 21s 36ms/step - loss: 0.6957 - accuracy: 0.7553 - val_loss: 0.6210 - val_accuracy: 0.7876\n",
      "Epoch 6/10\n",
      "591/591 [==============================] - 21s 36ms/step - loss: 0.6445 - accuracy: 0.7723 - val_loss: 0.6800 - val_accuracy: 0.7622\n",
      "Epoch 7/10\n",
      "591/591 [==============================] - 21s 36ms/step - loss: 0.5717 - accuracy: 0.7959 - val_loss: 0.6657 - val_accuracy: 0.7609\n",
      "Epoch 8/10\n",
      "591/591 [==============================] - 22s 37ms/step - loss: 0.5192 - accuracy: 0.8170 - val_loss: 0.5374 - val_accuracy: 0.8109\n",
      "Epoch 9/10\n",
      "591/591 [==============================] - 21s 36ms/step - loss: 0.4929 - accuracy: 0.8239 - val_loss: 0.4624 - val_accuracy: 0.8341\n",
      "Epoch 10/10\n",
      "591/591 [==============================] - 21s 36ms/step - loss: 0.4369 - accuracy: 0.8407 - val_loss: 0.5604 - val_accuracy: 0.8104\n",
      "Execution time: 215.68s\n"
     ]
    },
    {
     "data": {
      "text/markdown": [
       "**<div style='text-align: center;'><span style='color:white; font-size:24px; text-align:center'>5. Test the CNN model</span></div>**"
      ],
      "text/plain": [
       "<IPython.core.display.Markdown object>"
      ]
     },
     "metadata": {},
     "output_type": "display_data"
    },
    {
     "name": "stdout",
     "output_type": "stream",
     "text": [
      "85/85 - 1s - loss: 0.5402 - accuracy: 0.8152 - 697ms/epoch - 8ms/step\n",
      "Test accuracy: 0.8151851892471313\n"
     ]
    },
    {
     "data": {
      "text/markdown": [
       "**<div style='text-align: center;'><span style='color:white; font-size:24px; text-align:center'>6. Save the model</span></div>**"
      ],
      "text/plain": [
       "<IPython.core.display.Markdown object>"
      ]
     },
     "metadata": {},
     "output_type": "display_data"
    },
    {
     "name": "stdout",
     "output_type": "stream",
     "text": [
      "INFO:tensorflow:Assets written to: E:\\Projects\\Projekt_Inzynierski\\Geospatial-land-use-classification\\artefacts/models_pb\\network_A_1315070122\\assets\n"
     ]
    },
    {
     "data": {
      "image/png": "[encoded data removed]",
      "text/plain": [
       "<Figure size 432x288 with 1 Axes>"
      ]
     },
     "metadata": {
      "needs_background": "light"
     },
     "output_type": "display_data"
    }
   ],
   "source": [
    "if __name__ == \"__main__\" :\n",
    "        main()"
   ]
  }
 ],
 "metadata": {
  "kernelspec": {
   "display_name": "Python 3 (ipykernel)",
   "language": "python",
   "name": "python3"
  },
  "language_info": {
   "codemirror_mode": {
    "name": "ipython",
    "version": 3
   },
   "file_extension": ".py",
   "mimetype": "text/x-python",
   "name": "python",
   "nbconvert_exporter": "python",
   "pygments_lexer": "ipython3",
   "version": "3.7.11"
  }
 },
 "nbformat": 4,
 "nbformat_minor": 5
}
