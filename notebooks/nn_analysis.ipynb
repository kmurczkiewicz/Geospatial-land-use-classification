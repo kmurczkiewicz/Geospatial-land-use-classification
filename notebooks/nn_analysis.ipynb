{
 "cells": [
  {
   "cell_type": "code",
   "execution_count": 1,
   "id": "8e88151b",
   "metadata": {},
   "outputs": [],
   "source": [
    "import bin.execution.executor"
   ]
  },
  {
   "cell_type": "code",
   "execution_count": 2,
   "id": "6ef340bf",
   "metadata": {},
   "outputs": [],
   "source": [
    "def main():\n",
    "    executor = bin.execution.executor.Executor(display=True)\n",
    "    executor.execute_analyze_networks()"
   ]
  },
  {
   "cell_type": "code",
   "execution_count": 3,
   "id": "65a0f61d",
   "metadata": {},
   "outputs": [
    {
     "data": {
      "text/markdown": [
       "**<div style='text-align: center;'><span style='color:white; font-size:24px; text-align:center'>1. Analyze all saved networks</span></div>**"
      ],
      "text/plain": [
       "<IPython.core.display.Markdown object>"
      ]
     },
     "metadata": {},
     "output_type": "display_data"
    },
    {
     "name": "stdout",
     "output_type": "stream",
     "text": [
      "network_A_2257130122\\network_details.json\n",
      "network_B_1553150122\\network_details.json\n",
      "network_B_2258130122\\network_details.json\n",
      "network_B_2300130122\\network_details.json\n",
      "network_B_2304130122\\network_details.json\n",
      "network_B_2307130122\\network_details.json\n"
     ]
    },
    {
     "data": {
      "text/html": [
       "<div>\n",
       "<style scoped>\n",
       "    .dataframe tbody tr th:only-of-type {\n",
       "        vertical-align: middle;\n",
       "    }\n",
       "\n",
       "    .dataframe tbody tr th {\n",
       "        vertical-align: top;\n",
       "    }\n",
       "\n",
       "    .dataframe thead th {\n",
       "        text-align: right;\n",
       "    }\n",
       "</style>\n",
       "<table border=\"1\" class=\"dataframe\">\n",
       "  <thead>\n",
       "    <tr style=\"text-align: right;\">\n",
       "      <th></th>\n",
       "      <th>network_name</th>\n",
       "      <th>FTA</th>\n",
       "      <th>FTL</th>\n",
       "      <th>topology</th>\n",
       "      <th>optimizer</th>\n",
       "      <th>loss_function</th>\n",
       "      <th>created</th>\n",
       "    </tr>\n",
       "  </thead>\n",
       "  <tbody>\n",
       "    <tr>\n",
       "      <th>1</th>\n",
       "      <td>network_B_1553150122</td>\n",
       "      <td>0.760741</td>\n",
       "      <td>0.665101</td>\n",
       "      <td>topology_B</td>\n",
       "      <td>Adam</td>\n",
       "      <td>SparseCategoricalCrossentropy</td>\n",
       "      <td>15:53:48, 15/01/2022</td>\n",
       "    </tr>\n",
       "    <tr>\n",
       "      <th>3</th>\n",
       "      <td>network_B</td>\n",
       "      <td>0.623333</td>\n",
       "      <td>1.066798</td>\n",
       "      <td>topology_B</td>\n",
       "      <td>Adam</td>\n",
       "      <td>SparseCategoricalCrossentropy</td>\n",
       "      <td>23:00:11, 13/01/2022</td>\n",
       "    </tr>\n",
       "    <tr>\n",
       "      <th>5</th>\n",
       "      <td>network_B_2307130122</td>\n",
       "      <td>0.584444</td>\n",
       "      <td>1.136737</td>\n",
       "      <td>topology_B</td>\n",
       "      <td>Adam</td>\n",
       "      <td>SparseCategoricalCrossentropy</td>\n",
       "      <td>23:07:41, 13/01/2022</td>\n",
       "    </tr>\n",
       "    <tr>\n",
       "      <th>4</th>\n",
       "      <td>network_B</td>\n",
       "      <td>0.575926</td>\n",
       "      <td>1.124223</td>\n",
       "      <td>topology_B</td>\n",
       "      <td>Adam</td>\n",
       "      <td>SparseCategoricalCrossentropy</td>\n",
       "      <td>23:04:19, 13/01/2022</td>\n",
       "    </tr>\n",
       "    <tr>\n",
       "      <th>2</th>\n",
       "      <td>network_B</td>\n",
       "      <td>0.573704</td>\n",
       "      <td>1.243433</td>\n",
       "      <td>topology_B</td>\n",
       "      <td>Adam</td>\n",
       "      <td>SparseCategoricalCrossentropy</td>\n",
       "      <td>22:58:50, 13/01/2022</td>\n",
       "    </tr>\n",
       "    <tr>\n",
       "      <th>0</th>\n",
       "      <td>network_A</td>\n",
       "      <td>0.381481</td>\n",
       "      <td>1.651517</td>\n",
       "      <td>topology_A</td>\n",
       "      <td>Adam</td>\n",
       "      <td>SparseCategoricalCrossentropy</td>\n",
       "      <td>22:57:50, 13/01/2022</td>\n",
       "    </tr>\n",
       "  </tbody>\n",
       "</table>\n",
       "</div>"
      ],
      "text/plain": [
       "           network_name       FTA       FTL    topology optimizer  \\\n",
       "1  network_B_1553150122  0.760741  0.665101  topology_B      Adam   \n",
       "3             network_B  0.623333  1.066798  topology_B      Adam   \n",
       "5  network_B_2307130122  0.584444  1.136737  topology_B      Adam   \n",
       "4             network_B  0.575926  1.124223  topology_B      Adam   \n",
       "2             network_B  0.573704  1.243433  topology_B      Adam   \n",
       "0             network_A  0.381481  1.651517  topology_A      Adam   \n",
       "\n",
       "                   loss_function               created  \n",
       "1  SparseCategoricalCrossentropy  15:53:48, 15/01/2022  \n",
       "3  SparseCategoricalCrossentropy  23:00:11, 13/01/2022  \n",
       "5  SparseCategoricalCrossentropy  23:07:41, 13/01/2022  \n",
       "4  SparseCategoricalCrossentropy  23:04:19, 13/01/2022  \n",
       "2  SparseCategoricalCrossentropy  22:58:50, 13/01/2022  \n",
       "0  SparseCategoricalCrossentropy  22:57:50, 13/01/2022  "
      ]
     },
     "metadata": {},
     "output_type": "display_data"
    },
    {
     "name": "stdout",
     "output_type": "stream",
     "text": [
      "Execution time: 0.03s\n"
     ]
    }
   ],
   "source": [
    "if __name__ == \"__main__\" :\n",
    "        main()"
   ]
  }
 ],
 "metadata": {
  "kernelspec": {
   "display_name": "Python [conda env:dev_env] *",
   "language": "python",
   "name": "conda-env-dev_env-py"
  },
  "language_info": {
   "codemirror_mode": {
    "name": "ipython",
    "version": 3
   },
   "file_extension": ".py",
   "mimetype": "text/x-python",
   "name": "python",
   "nbconvert_exporter": "python",
   "pygments_lexer": "ipython3",
   "version": "3.7.11"
  }
 },
 "nbformat": 4,
 "nbformat_minor": 5
}
