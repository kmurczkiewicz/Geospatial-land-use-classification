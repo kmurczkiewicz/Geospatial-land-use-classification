{
 "cells": [
  {
   "cell_type": "code",
   "execution_count": null,
   "id": "8e88151b",
   "metadata": {},
   "outputs": [],
   "source": [
    "import src.execution.main_executor"
   ]
  },
  {
   "cell_type": "code",
   "execution_count": null,
   "id": "6ef340bf",
   "metadata": {},
   "outputs": [],
   "source": [
    "def main():\n",
    "    executor = src.execution.main_executor.MainExecutor(display=True)\n",
    "    executor.execute_analyze_networks()"
   ]
  },
  {
   "cell_type": "code",
   "execution_count": null,
   "id": "65a0f61d",
   "metadata": {},
   "outputs": [],
   "source": [
    "if __name__ == \"__main__\" :\n",
    "        main()"
   ]
  }
 ],
 "metadata": {
  "kernelspec": {
   "display_name": "Python [conda env:dev_env] *",
   "language": "python",
   "name": "conda-env-dev_env-py"
  },
  "language_info": {
   "codemirror_mode": {
    "name": "ipython",
    "version": 3
   },
   "file_extension": ".py",
   "mimetype": "text/x-python",
   "name": "python",
   "nbconvert_exporter": "python",
   "pygments_lexer": "ipython3",
   "version": "3.7.11"
  }
 },
 "nbformat": 4,
 "nbformat_minor": 5
}
