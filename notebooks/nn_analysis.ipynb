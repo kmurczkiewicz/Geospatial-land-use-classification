{
 "cells": [
  {
   "cell_type": "code",
   "execution_count": null,
   "id": "8e88151b",
   "metadata": {},
   "outputs": [],
   "source": [
    "import src.execution.main_executor\n",
    "import os\n",
    "os.environ['TF_CPP_MIN_LOG_LEVEL'] = '3' "
   ]
  },
  {
   "cell_type": "code",
   "execution_count": null,
   "id": "6ef340bf",
   "metadata": {},
   "outputs": [],
   "source": [
    "def main():\n",
    "    executor = src.execution.main_executor.MainExecutor(display=True)\n",
    "    \n",
    "    executor.execute_analyze_networks()\n",
    "    \n",
    "#     executor.execute_analyze_single_network(\n",
    "#         network_name=\"network_D_2142310122\",\n",
    "#         layer_num=1,\n",
    "#         image_path=\"River/River_119.jpg\"\n",
    "#     )"
   ]
  },
  {
   "cell_type": "code",
   "execution_count": null,
   "id": "65a0f61d",
   "metadata": {
    "scrolled": false
   },
   "outputs": [],
   "source": [
    "if __name__ == \"__main__\" :\n",
    "        main()"
   ]
  }
 ],
 "metadata": {
  "kernelspec": {
   "display_name": "Python 3 (ipykernel)",
   "language": "python",
   "name": "python3"
  },
  "language_info": {
   "codemirror_mode": {
    "name": "ipython",
    "version": 3
   },
   "file_extension": ".py",
   "mimetype": "text/x-python",
   "name": "python",
   "nbconvert_exporter": "python",
   "pygments_lexer": "ipython3",
   "version": "3.7.9"
  }
 },
 "nbformat": 4,
 "nbformat_minor": 5
}
