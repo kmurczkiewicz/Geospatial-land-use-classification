{
 "cells": [
  {
   "cell_type": "code",
   "execution_count": null,
   "id": "e999907d",
   "metadata": {},
   "outputs": [],
   "source": [
    "# Best val_accuracy so far: 0.9342592656612396\n",
    "# Total elapsed time: 42h 22m 18s\n",
    "# Hyperparameter    |Best Value So Far\n",
    "# dropout           |0.45\n",
    "# dense_units_1     |512\n",
    "# learning_rate     |0.00046748\n",
    "# batch_size        |128"
   ]
  },
  {
   "cell_type": "code",
   "execution_count": null,
   "id": "5e6cae3c",
   "metadata": {},
   "outputs": [],
   "source": [
    "%matplotlib inline\n",
    "import tensorflow as tf\n",
    "import src.execution.main_executor"
   ]
  },
  {
   "cell_type": "code",
   "execution_count": null,
   "id": "97fdead6",
   "metadata": {},
   "outputs": [],
   "source": [
    "def main():\n",
    "    executor = src.execution.main_executor.MainExecutor(display=True)\n",
    "    executor.execute_nn_hyper_parameters_tuning(\n",
    "        overwrite=True,\n",
    "        max_trials=20,\n",
    "        executions_per_trial=1,\n",
    "        n_epoch_search=100,\n",
    "        save_model=False\n",
    "    )"
   ]
  },
  {
   "cell_type": "code",
   "execution_count": null,
   "id": "05b16e08",
   "metadata": {
    "scrolled": false
   },
   "outputs": [],
   "source": [
    "if __name__ == \"__main__\" :\n",
    "        main()"
   ]
  }
 ],
 "metadata": {
  "kernelspec": {
   "display_name": "Python 3 (ipykernel)",
   "language": "python",
   "name": "python3"
  },
  "language_info": {
   "codemirror_mode": {
    "name": "ipython",
    "version": 3
   },
   "file_extension": ".py",
   "mimetype": "text/x-python",
   "name": "python",
   "nbconvert_exporter": "python",
   "pygments_lexer": "ipython3",
   "version": "3.7.9"
  }
 },
 "nbformat": 4,
 "nbformat_minor": 5
}
