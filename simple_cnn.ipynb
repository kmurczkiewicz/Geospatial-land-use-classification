{
 "cells": [
  {
   "cell_type": "code",
   "execution_count": 232,
   "id": "781fef89",
   "metadata": {},
   "outputs": [],
   "source": [
    "\"\"\"Imports\"\"\"\n",
    "import glob\n",
    "import numpy\n",
    "import os\n",
    "import json\n",
    "\n",
    "import pandas as pd\n",
    "import tensorflow as tf\n",
    "import matplotlib.pyplot as plt\n",
    "import numpy as np\n",
    "\n",
    "from sklearn.model_selection import train_test_split\n",
    "from tensorflow.keras import datasets, layers, models, activations\n",
    "from IPython.display import Markdown, display\n",
    "from PIL import Image"
   ]
  },
  {
   "cell_type": "code",
   "execution_count": 233,
   "id": "5577b844",
   "metadata": {},
   "outputs": [],
   "source": [
    "\"\"\"Paths and constants\"\"\"\n",
    "DATASET_PATH        = \"dataset\"\n",
    "TEST_CSV_PATH       = os.path.join(DATASET_PATH, \"test.csv\")\n",
    "TRAIN_CSV_PATH      = os.path.join(DATASET_PATH, \"train.csv\")\n",
    "VALIDATION_CSV_PATH = os.path.join(DATASET_PATH, \"validation.csv\")\n",
    "LABEL_MAP_PATH      = os.path.join(DATASET_PATH, \"label_map.json\")\n",
    "\n",
    "with open(LABEL_MAP_PATH) as json_file:\n",
    "    LABEL_MAP = json.load(json_file)"
   ]
  },
  {
   "cell_type": "code",
   "execution_count": 114,
   "id": "ff949130",
   "metadata": {},
   "outputs": [],
   "source": [
    "# \"\"\" Version 1.15.5 of tensorflow needed in order to run training on AMD Radeon GPU\"\"\"\n",
    "# tf.__version__\n",
    "# sess = tf.Session(config=tf.ConfigProto(log_device_placement=True))"
   ]
  },
  {
   "cell_type": "code",
   "execution_count": 234,
   "id": "7347afcb",
   "metadata": {},
   "outputs": [],
   "source": [
    "\"\"\" Helper printing functions HTML and CSS\"\"\"\n",
    "\n",
    "def print_title(string):\n",
    "    string = \"<div style='text-align: center;'>\" + \\\n",
    "    \"<span style='color:{}; font-size:{}; text-align:{}'>{}</span>\".format(\"white\", \"24px\", \"center\", string) + \\\n",
    "    \"</div>\"\n",
    "\n",
    "    display(Markdown(\"**\" + string + \"**\"))\n",
    "\n",
    "    \n",
    "def print_subtitle(string):\n",
    "    string = \"<span style='color:{}; font-size:{}'>{}</span>\".format(\"white\", \"18px\", string)\n",
    "    white_spaces = \" \" * 10\n",
    "    display(Markdown(\"**\" + string + \"**\"))\n",
    "    \n",
    "    \n",
    "def print_variable(string):\n",
    "    string = \"<span style='color:{}'>{}</span>\".format(\"yellow\", string)\n",
    "    display(Markdown(\"**\" + string + \"**\"))\n",
    "\n",
    "    \n",
    "def print_border():\n",
    "    border = \"-----------------------------------------------------------\" * 3\n",
    "    borderstr = \"<span style='color:{}'>**{}**</span>\".format(\"white\", border)\n",
    "    display(Markdown(\"**\" + borderstr + \"**\"))\n",
    "    \n",
    "    \n",
    "def print_dict(dict_to_print, spaces = \"\"):\n",
    "    for key, value in dict_to_print.items():\n",
    "        if type(value) is dict:\n",
    "            spaces = spaces + \" \"\n",
    "            print_dict(value)\n",
    "        else:\n",
    "            print(f\"{spaces}{key} : {value}\")"
   ]
  },
  {
   "cell_type": "code",
   "execution_count": 235,
   "id": "7af2519c",
   "metadata": {},
   "outputs": [],
   "source": [
    "\"\"\" Prepare data functions \"\"\"\n",
    "\n",
    "def prepare_data():\n",
    "    \"\"\"\n",
    "    Funtion to read .csv data files into pandas data frames.\n",
    "    returns: dict with test, train and validation data frames\n",
    "    \"\"\"\n",
    "    return {\n",
    "        \"test_data_frame\" : pd.read_csv(TEST_CSV_PATH).drop(\"Unnamed: 0\", axis=1).drop(\"ClassName\", axis=1),\n",
    "        \"train_data_frame\": pd.read_csv(TRAIN_CSV_PATH).drop(\"Unnamed: 0\", axis=1).drop(\"ClassName\", axis=1),\n",
    "        \"val_data_frame\"  : pd.read_csv(VALIDATION_CSV_PATH).drop(\"Unnamed: 0\", axis=1).drop(\"ClassName\", axis=1),\n",
    "    }\n",
    "\n",
    "\n",
    "def display_prepared_data(data_dict):\n",
    "    for key, data_frame in data_dict.items():\n",
    "        print_variable(key)\n",
    "        display(data_frame.head(5))"
   ]
  },
  {
   "cell_type": "code",
   "execution_count": 261,
   "id": "380bc265",
   "metadata": {},
   "outputs": [],
   "source": [
    "\"\"\" Analyze data functions \"\"\"\n",
    "\n",
    "def analyze_data(data_dict):\n",
    "    print_variable(\"LABEL_MAP:\")\n",
    "    print_dict(LABEL_MAP)\n",
    "    \n",
    "    print_subtitle(\"2.1. Data distibution \")\n",
    "    \n",
    "    data_distribution = {\n",
    "        \"test_data_frame\" : {key : 0 for key, _ in LABEL_MAP.items()},\n",
    "        \"train_data_frame\": {key : 0 for key, _ in LABEL_MAP.items()},\n",
    "        \"val_data_frame\"  : {key : 0 for key, _ in LABEL_MAP.items()}\n",
    "    }\n",
    "    \n",
    "    for key, value_dict in data_distribution.items():\n",
    "        for sub_key, sub_value in value_dict.items():\n",
    "            details = data_dict[key].apply(lambda x : True if x['Label'] == 1 else False, axis = 1)\n",
    "            value_dict[sub_key] = len(details[details == True].index)\n",
    "        plot_data(data_distribution, key)\n",
    "\n",
    "    \n",
    "    #details = data_dict[\"test_data_frame\"].apply(lambda x : True if x['Label'] == 1 else False, axis = 1)\n",
    "        \n",
    "def plot_data(data_distribution, key):\n",
    "    df = pd.\n",
    "    new_colors = [\"red\"]\n",
    "    plt.bar(x, y, color=new_colors)\n",
    "    plt.ylabel('some numbers')\n",
    "    plt.show()"
   ]
  },
  {
   "cell_type": "code",
   "execution_count": 259,
   "id": "57276f41",
   "metadata": {},
   "outputs": [],
   "source": [
    "def main():\n",
    "    # 1. Prepare test, train and validation data. Display the results\n",
    "    print_title(\"1. Prepare test, train and validation data\")\n",
    "    data_dict = prepare_data()\n",
    "    display_prepared_data(data_dict)\n",
    "    print_border()\n",
    "    \n",
    "    # 2. Analyze test, tran and validation data\n",
    "    print_title(\"2. Analyze test, train and validation data\")\n",
    "    analyze_data(data_dict)"
   ]
  },
  {
   "cell_type": "code",
   "execution_count": 262,
   "id": "e0ede10e",
   "metadata": {},
   "outputs": [
    {
     "data": {
      "text/markdown": [
       "**<div style='text-align: center;'><span style='color:white; font-size:24px; text-align:center'>1. Prepare test, train and validation data</span></div>**"
      ],
      "text/plain": [
       "<IPython.core.display.Markdown object>"
      ]
     },
     "metadata": {},
     "output_type": "display_data"
    },
    {
     "data": {
      "text/markdown": [
       "**<span style='color:yellow'>test_data_frame</span>**"
      ],
      "text/plain": [
       "<IPython.core.display.Markdown object>"
      ]
     },
     "metadata": {},
     "output_type": "display_data"
    },
    {
     "data": {
      "text/html": [
       "<div>\n",
       "<style scoped>\n",
       "    .dataframe tbody tr th:only-of-type {\n",
       "        vertical-align: middle;\n",
       "    }\n",
       "\n",
       "    .dataframe tbody tr th {\n",
       "        vertical-align: top;\n",
       "    }\n",
       "\n",
       "    .dataframe thead th {\n",
       "        text-align: right;\n",
       "    }\n",
       "</style>\n",
       "<table border=\"1\" class=\"dataframe\">\n",
       "  <thead>\n",
       "    <tr style=\"text-align: right;\">\n",
       "      <th></th>\n",
       "      <th>Filename</th>\n",
       "      <th>Label</th>\n",
       "    </tr>\n",
       "  </thead>\n",
       "  <tbody>\n",
       "    <tr>\n",
       "      <th>0</th>\n",
       "      <td>AnnualCrop/AnnualCrop_1275.jpg</td>\n",
       "      <td>0</td>\n",
       "    </tr>\n",
       "    <tr>\n",
       "      <th>1</th>\n",
       "      <td>Residential/Residential_504.jpg</td>\n",
       "      <td>7</td>\n",
       "    </tr>\n",
       "    <tr>\n",
       "      <th>2</th>\n",
       "      <td>Pasture/Pasture_787.jpg</td>\n",
       "      <td>5</td>\n",
       "    </tr>\n",
       "    <tr>\n",
       "      <th>3</th>\n",
       "      <td>Residential/Residential_1575.jpg</td>\n",
       "      <td>7</td>\n",
       "    </tr>\n",
       "    <tr>\n",
       "      <th>4</th>\n",
       "      <td>Pasture/Pasture_473.jpg</td>\n",
       "      <td>5</td>\n",
       "    </tr>\n",
       "  </tbody>\n",
       "</table>\n",
       "</div>"
      ],
      "text/plain": [
       "                           Filename  Label\n",
       "0    AnnualCrop/AnnualCrop_1275.jpg      0\n",
       "1   Residential/Residential_504.jpg      7\n",
       "2           Pasture/Pasture_787.jpg      5\n",
       "3  Residential/Residential_1575.jpg      7\n",
       "4           Pasture/Pasture_473.jpg      5"
      ]
     },
     "metadata": {},
     "output_type": "display_data"
    },
    {
     "data": {
      "text/markdown": [
       "**<span style='color:yellow'>train_data_frame</span>**"
      ],
      "text/plain": [
       "<IPython.core.display.Markdown object>"
      ]
     },
     "metadata": {},
     "output_type": "display_data"
    },
    {
     "data": {
      "text/html": [
       "<div>\n",
       "<style scoped>\n",
       "    .dataframe tbody tr th:only-of-type {\n",
       "        vertical-align: middle;\n",
       "    }\n",
       "\n",
       "    .dataframe tbody tr th {\n",
       "        vertical-align: top;\n",
       "    }\n",
       "\n",
       "    .dataframe thead th {\n",
       "        text-align: right;\n",
       "    }\n",
       "</style>\n",
       "<table border=\"1\" class=\"dataframe\">\n",
       "  <thead>\n",
       "    <tr style=\"text-align: right;\">\n",
       "      <th></th>\n",
       "      <th>Filename</th>\n",
       "      <th>Label</th>\n",
       "    </tr>\n",
       "  </thead>\n",
       "  <tbody>\n",
       "    <tr>\n",
       "      <th>0</th>\n",
       "      <td>AnnualCrop/AnnualCrop_142.jpg</td>\n",
       "      <td>0</td>\n",
       "    </tr>\n",
       "    <tr>\n",
       "      <th>1</th>\n",
       "      <td>HerbaceousVegetation/HerbaceousVegetation_2835...</td>\n",
       "      <td>2</td>\n",
       "    </tr>\n",
       "    <tr>\n",
       "      <th>2</th>\n",
       "      <td>PermanentCrop/PermanentCrop_1073.jpg</td>\n",
       "      <td>6</td>\n",
       "    </tr>\n",
       "    <tr>\n",
       "      <th>3</th>\n",
       "      <td>Industrial/Industrial_453.jpg</td>\n",
       "      <td>4</td>\n",
       "    </tr>\n",
       "    <tr>\n",
       "      <th>4</th>\n",
       "      <td>HerbaceousVegetation/HerbaceousVegetation_1810...</td>\n",
       "      <td>2</td>\n",
       "    </tr>\n",
       "  </tbody>\n",
       "</table>\n",
       "</div>"
      ],
      "text/plain": [
       "                                            Filename  Label\n",
       "0                      AnnualCrop/AnnualCrop_142.jpg      0\n",
       "1  HerbaceousVegetation/HerbaceousVegetation_2835...      2\n",
       "2               PermanentCrop/PermanentCrop_1073.jpg      6\n",
       "3                      Industrial/Industrial_453.jpg      4\n",
       "4  HerbaceousVegetation/HerbaceousVegetation_1810...      2"
      ]
     },
     "metadata": {},
     "output_type": "display_data"
    },
    {
     "data": {
      "text/markdown": [
       "**<span style='color:yellow'>val_data_frame</span>**"
      ],
      "text/plain": [
       "<IPython.core.display.Markdown object>"
      ]
     },
     "metadata": {},
     "output_type": "display_data"
    },
    {
     "data": {
      "text/html": [
       "<div>\n",
       "<style scoped>\n",
       "    .dataframe tbody tr th:only-of-type {\n",
       "        vertical-align: middle;\n",
       "    }\n",
       "\n",
       "    .dataframe tbody tr th {\n",
       "        vertical-align: top;\n",
       "    }\n",
       "\n",
       "    .dataframe thead th {\n",
       "        text-align: right;\n",
       "    }\n",
       "</style>\n",
       "<table border=\"1\" class=\"dataframe\">\n",
       "  <thead>\n",
       "    <tr style=\"text-align: right;\">\n",
       "      <th></th>\n",
       "      <th>Filename</th>\n",
       "      <th>Label</th>\n",
       "    </tr>\n",
       "  </thead>\n",
       "  <tbody>\n",
       "    <tr>\n",
       "      <th>0</th>\n",
       "      <td>Pasture/Pasture_1481.jpg</td>\n",
       "      <td>5</td>\n",
       "    </tr>\n",
       "    <tr>\n",
       "      <th>1</th>\n",
       "      <td>Forest/Forest_2638.jpg</td>\n",
       "      <td>1</td>\n",
       "    </tr>\n",
       "    <tr>\n",
       "      <th>2</th>\n",
       "      <td>Highway/Highway_875.jpg</td>\n",
       "      <td>3</td>\n",
       "    </tr>\n",
       "    <tr>\n",
       "      <th>3</th>\n",
       "      <td>River/River_434.jpg</td>\n",
       "      <td>8</td>\n",
       "    </tr>\n",
       "    <tr>\n",
       "      <th>4</th>\n",
       "      <td>SeaLake/SeaLake_2930.jpg</td>\n",
       "      <td>9</td>\n",
       "    </tr>\n",
       "  </tbody>\n",
       "</table>\n",
       "</div>"
      ],
      "text/plain": [
       "                   Filename  Label\n",
       "0  Pasture/Pasture_1481.jpg      5\n",
       "1    Forest/Forest_2638.jpg      1\n",
       "2   Highway/Highway_875.jpg      3\n",
       "3       River/River_434.jpg      8\n",
       "4  SeaLake/SeaLake_2930.jpg      9"
      ]
     },
     "metadata": {},
     "output_type": "display_data"
    },
    {
     "data": {
      "text/markdown": [
       "**<span style='color:white'>**---------------------------------------------------------------------------------------------------------------------------------------------------------------------------------**</span>**"
      ],
      "text/plain": [
       "<IPython.core.display.Markdown object>"
      ]
     },
     "metadata": {},
     "output_type": "display_data"
    },
    {
     "data": {
      "text/markdown": [
       "**<div style='text-align: center;'><span style='color:white; font-size:24px; text-align:center'>2. Analyze test, train and validation data</span></div>**"
      ],
      "text/plain": [
       "<IPython.core.display.Markdown object>"
      ]
     },
     "metadata": {},
     "output_type": "display_data"
    },
    {
     "data": {
      "text/markdown": [
       "**<span style='color:yellow'>LABEL_MAP:</span>**"
      ],
      "text/plain": [
       "<IPython.core.display.Markdown object>"
      ]
     },
     "metadata": {},
     "output_type": "display_data"
    },
    {
     "name": "stdout",
     "output_type": "stream",
     "text": [
      "AnnualCrop : 0\n",
      "Forest : 1\n",
      "HerbaceousVegetation : 2\n",
      "Highway : 3\n",
      "Industrial : 4\n",
      "Pasture : 5\n",
      "PermanentCrop : 6\n",
      "Residential : 7\n",
      "River : 8\n",
      "SeaLake : 9\n"
     ]
    },
    {
     "data": {
      "text/markdown": [
       "**<span style='color:white; font-size:18px'>2.1. Data distibution </span>**"
      ],
      "text/plain": [
       "<IPython.core.display.Markdown object>"
      ]
     },
     "metadata": {},
     "output_type": "display_data"
    },
    {
     "data": {
      "image/png": "[encoded data removed]",
      "text/plain": [
       "<Figure size 432x288 with 1 Axes>"
      ]
     },
     "metadata": {
      "needs_background": "light"
     },
     "output_type": "display_data"
    },
    {
     "data": {
      "image/png": "[encoded data removed]",
      "text/plain": [
       "<Figure size 432x288 with 1 Axes>"
      ]
     },
     "metadata": {
      "needs_background": "light"
     },
     "output_type": "display_data"
    },
    {
     "data": {
      "image/png": "[encoded data removed]",
      "text/plain": [
       "<Figure size 432x288 with 1 Axes>"
      ]
     },
     "metadata": {
      "needs_background": "light"
     },
     "output_type": "display_data"
    }
   ],
   "source": [
    "if __name__ == \"__main__\" :\n",
    "        main()"
   ]
  }
 ],
 "metadata": {
  "kernelspec": {
   "display_name": "Python 3 (ipykernel)",
   "language": "python",
   "name": "python3"
  },
  "language_info": {
   "codemirror_mode": {
    "name": "ipython",
    "version": 3
   },
   "file_extension": ".py",
   "mimetype": "text/x-python",
   "name": "python",
   "nbconvert_exporter": "python",
   "pygments_lexer": "ipython3",
   "version": "3.7.11"
  }
 },
 "nbformat": 4,
 "nbformat_minor": 5
}
