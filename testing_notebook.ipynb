{
 "cells": [
  {
   "cell_type": "code",
   "execution_count": 5,
   "id": "e9cdd4d1",
   "metadata": {
    "scrolled": true
   },
   "outputs": [
    {
     "data": {
      "text/plain": [
       "{'test1': {'one': 0, 'two': 0, 'three': 0}, 'test2': 2}"
      ]
     },
     "execution_count": 5,
     "metadata": {},
     "output_type": "execute_result"
    }
   ],
   "source": [
    "sec_dict = {\n",
    "    \"one\" : 1,\n",
    "    \"two\" : 2,\n",
    "    \"three\" : 3\n",
    "}\n",
    "\n",
    "\n",
    "\n",
    "my_dict = {\n",
    "    \"test1\" : {key : 0 for key, _ in sec_dict.items()},\n",
    "    \"test2\" : 2\n",
    "}\n",
    "\n",
    "my_dict"
   ]
  },
  {
   "cell_type": "code",
   "execution_count": 7,
   "id": "549c0f3b",
   "metadata": {},
   "outputs": [
    {
     "name": "stdout",
     "output_type": "stream",
     "text": [
      "<class 'dict'>\n"
     ]
    }
   ],
   "source": [
    "print(type({}))"
   ]
  },
  {
   "cell_type": "code",
   "execution_count": 10,
   "id": "d51add63",
   "metadata": {},
   "outputs": [],
   "source": [
    "if type({}) ==\"dict\":\n",
    "    print(\"test\")"
   ]
  },
  {
   "cell_type": "code",
   "execution_count": null,
   "id": "621b579f",
   "metadata": {},
   "outputs": [],
   "source": []
  }
 ],
 "metadata": {
  "kernelspec": {
   "display_name": "Python 3 (ipykernel)",
   "language": "python",
   "name": "python3"
  },
  "language_info": {
   "codemirror_mode": {
    "name": "ipython",
    "version": 3
   },
   "file_extension": ".py",
   "mimetype": "text/x-python",
   "name": "python",
   "nbconvert_exporter": "python",
   "pygments_lexer": "ipython3",
   "version": "3.7.11"
  }
 },
 "nbformat": 4,
 "nbformat_minor": 5
}
